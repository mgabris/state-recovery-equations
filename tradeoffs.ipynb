{
 "cells": [
  {
   "cell_type": "code",
   "execution_count": null,
   "metadata": {
    "collapsed": false
   },
   "outputs": [],
   "source": [
    "%matplotlib inline\n",
    "\n",
    "import matplotlib\n",
    "import numpy as np\n",
    "import matplotlib.pyplot as plt\n",
    "from collections import defaultdict\n",
    "\n",
    "matplotlib.rcParams['text.usetex'] = True\n",
    "matplotlib.rcParams['text.latex.unicode'] = True\n",
    "matplotlib.rc('font', **{'family':'serif', 'serif':['Computer Modern']})"
   ]
  },
  {
   "cell_type": "code",
   "execution_count": null,
   "metadata": {
    "collapsed": true
   },
   "outputs": [],
   "source": [
    "load(\"spritz_equations.sage\")"
   ]
  },
  {
   "cell_type": "code",
   "execution_count": null,
   "metadata": {
    "collapsed": true
   },
   "outputs": [],
   "source": [
    "def simple(N):\n",
    "    KB = compute_complexity(\n",
    "        N, 0,\n",
    "        generate_spritz_variables,\n",
    "        get_spritz_boundary_conditions,\n",
    "        generate_spritz_simple_equations,\n",
    "        return_kb=True\n",
    "    )\n",
    "    ff = falling_factorial\n",
    "    bruteforce = [ff(N,x) for x in range(N)]\n",
    "    # print bruteforce\n",
    "    backtrack = [KB[cvar(1,x)] for x in range(N)]\n",
    "    # print backtrack\n",
    "\n",
    "    complexity = [a*b for a,b in zip(bruteforce,backtrack)]\n",
    "    # print complexity\n",
    "    return complexity\n",
    "\n",
    "def change_order(N):\n",
    "    KB = compute_complexity(\n",
    "        N, 0,\n",
    "        generate_spritz_variables,\n",
    "        get_spritz_boundary_conditions,\n",
    "        generate_spritz_change_order_equations,\n",
    "        return_kb=True\n",
    "    )\n",
    "    ff = falling_factorial\n",
    "    bruteforce = [ff(N,x) for x in range(N)]\n",
    "    # print bruteforce\n",
    "    backtrack = [KB[cvar(1,x)] for x in range(N)]\n",
    "    # print backtrack\n",
    "\n",
    "    complexity = [a*b for a,b in zip(bruteforce,backtrack)]\n",
    "    # print complexity\n",
    "    return complexity"
   ]
  },
  {
   "cell_type": "code",
   "execution_count": null,
   "metadata": {
    "collapsed": true
   },
   "outputs": [],
   "source": [
    "def generate_spritz_threshold_equations(N, x, KB, threshold):\n",
    "    eqs = []\n",
    "    for i in range(1, 5):\n",
    "        eqs.append(\n",
    "            cvar(i,x) == x/N * cvar(i+1,x) + (1 - x/N) * (N-x) * (1 + KB[cvar(i+1,x+1)])\n",
    "        )\n",
    "    \n",
    "    if x < threshold:\n",
    "        eq5 = c5(x) == ((1 - x/N)^2 * (1 + KB[c1(x+1)]) + x/N * 1/N * c1(x))\n",
    "        eqs.append(eq5)\n",
    "        return (eqs, [cvar(i,x) for i in range(1, 6)])\n",
    "    \n",
    "    eq5 = c5(x) == x/N * ((1 - x/N)^2 * (1 + KB[c1(x+1)]) + x/N * 1/N * c1(x)) + (1 - x/N) * c6(x)\n",
    "    eq6 = c6(x) == (1 - x/N) * (1 + 1/N * KB[c1(x+1)] + (N-x-1) * (1 - (x+1)/N) * (1 + KB[c1(x+2)])) + x/N * (1 - x/N) * (1 + KB[c1(x+1)])\n",
    "    eqs += [eq5, eq6]\n",
    "    return (eqs, [cvar(i,x) for i in range(1, 7)])\n",
    "\n",
    "def change_order_threshold(N, step=1):\n",
    "    backtrack = []\n",
    "    for p in range(0, N, step):\n",
    "        # p positions have fixed values\n",
    "        c = compute_complexity(\n",
    "            N, p,\n",
    "            generate_spritz_variables,\n",
    "            get_spritz_boundary_conditions,\n",
    "            lambda N, x, kb: generate_spritz_threshold_equations(N, x, kb, 2*p)\n",
    "        )\n",
    "        backtrack.append(c)\n",
    "        \n",
    "    ff = falling_factorial\n",
    "    bruteforce = [ff(N,x) for x in range(0, N, step)]\n",
    "\n",
    "    complexity = [a*b for a,b in zip(bruteforce,backtrack)]\n",
    "    # print complexity\n",
    "    return complexity"
   ]
  },
  {
   "cell_type": "code",
   "execution_count": null,
   "metadata": {
    "collapsed": true
   },
   "outputs": [],
   "source": [
    "N = 256"
   ]
  },
  {
   "cell_type": "code",
   "execution_count": null,
   "metadata": {
    "collapsed": false
   },
   "outputs": [],
   "source": [
    "%time co = change_order(N)\n",
    "with open('co', 'w') as f:\n",
    "    f.write(str(co))"
   ]
  },
  {
   "cell_type": "code",
   "execution_count": null,
   "metadata": {
    "collapsed": false
   },
   "outputs": [],
   "source": [
    "%time cot = change_order_threshold(N, step=5)\n",
    "with open('cot', 'w') as f:\n",
    "    f.write(str(cot))"
   ]
  },
  {
   "cell_type": "code",
   "execution_count": null,
   "metadata": {
    "collapsed": false
   },
   "outputs": [],
   "source": [
    "fig, ax = plt.subplots(figsize=(8,5))\n",
    "ax.plot(range(0, N, 5), [int(x.log(2)) for x in co[::5]], color='red', label=u'Zafixované pozície')\n",
    "ax.plot(range(0, N, 5), [int(x.log(2)) for x in cot], color='green', label=u'Zafixované hodnoty z bežiaceho kľúča')\n",
    "\n",
    "ax.legend(loc=2)\n",
    "# print ['$2^{'+str(int(i))+'}$' for i in ax.get_yticks().tolist()]\n",
    "labels = ['$2^{'+str(int(i))+'}$' for i in ax.get_yticks().tolist()]\n",
    "ax.set_yticklabels(labels)\n",
    "\n",
    "plt.xlabel(u'Počet prednastavených hodnôt -- $m$', fontsize='larger')\n",
    "plt.ylabel(u'Celková zložitosť prehľadávania', fontsize='larger')\n",
    "plt.savefig('tradeoff-256.pdf')"
   ]
  }
 ],
 "metadata": {
  "kernelspec": {
   "display_name": "SageMath 7.0",
   "language": "",
   "name": "sagemath"
  },
  "language_info": {
   "codemirror_mode": {
    "name": "ipython",
    "version": 2
   },
   "file_extension": ".py",
   "mimetype": "text/x-python",
   "name": "python",
   "nbconvert_exporter": "python",
   "pygments_lexer": "ipython2",
   "version": "2.7.10"
  }
 },
 "nbformat": 4,
 "nbformat_minor": 0
}
